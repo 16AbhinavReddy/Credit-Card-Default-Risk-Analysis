{
  "cells": [
    {
      "cell_type": "code",
      "execution_count": 1,
      "metadata": {
        "id": "XPJ77mPiets6"
      },
      "outputs": [],
      "source": [
        "import numpy as np\n",
        "import pandas as pd\n",
        "import matplotlib.pyplot as plt\n",
        "import seaborn as sns\n"
      ]
    },
    {
      "cell_type": "code",
      "execution_count": 2,
      "metadata": {
        "id": "d8dr8mkbezZw"
      },
      "outputs": [],
      "source": [
        "df = pd.read_csv(\"train.csv\")"
      ]
    },
    {
      "cell_type": "code",
      "execution_count": 3,
      "metadata": {
        "id": "AyuHiniafGyB"
      },
      "outputs": [],
      "source": [
        "change = (df.EDUCATION == 5) | (df.EDUCATION == 6) | (df.EDUCATION == 0)\n",
        "df.loc[change, 'EDUCATION'] = 4\n",
        "\n",
        "df['Payement_Value'] = df['PAY_0'] + df['PAY_2'] + df['PAY_3'] + df['PAY_4'] + df['PAY_5'] + df['PAY_6']\n",
        "\n",
        "\n",
        "df['Dues'] = (df['BILL_AMT1']+df['BILL_AMT2']+df['BILL_AMT3']+df['BILL_AMT4']+df['BILL_AMT5']+df['BILL_AMT6'])-(df['PAY_AMT1']+df['PAY_AMT2']+df['PAY_AMT3']+df['PAY_AMT4']+df['PAY_AMT5']+df['PAY_AMT6'])"
      ]
    },
    {
      "cell_type": "code",
      "execution_count": 4,
      "metadata": {
        "colab": {
          "base_uri": "https://localhost:8080/"
        },
        "id": "2ryN0A7QfH5X",
        "outputId": "1910b707-5ad7-4fbe-f95d-5dd55b0415ca"
      },
      "outputs": [
        {
          "data": {
            "text/plain": [
              "2    14381\n",
              "1    12271\n",
              "3      348\n",
              "Name: MARRIAGE, dtype: int64"
            ]
          },
          "execution_count": 4,
          "metadata": {},
          "output_type": "execute_result"
        }
      ],
      "source": [
        "\n",
        "df.loc[df.MARRIAGE == 0, 'MARRIAGE'] = 3\n",
        "df.MARRIAGE.value_counts()"
      ]
    },
    {
      "cell_type": "code",
      "execution_count": 5,
      "metadata": {
        "id": "qzrgieJKfSyP"
      },
      "outputs": [],
      "source": [
        "for i in [['PAY_0',df.PAY_0],['PAY_2',df.PAY_2],['PAY_3',df.PAY_3],['PAY_4',df.PAY_4],['PAY_5',df.PAY_5],['PAY_6',df.PAY_6]]:\n",
        "  change = (i[1] == -2) | (i[1] == -1) | (i[1] == 0)\n",
        "  df.loc[change, i[0]] = 0"
      ]
    },
    {
      "cell_type": "code",
      "execution_count": null,
      "metadata": {
        "id": "T0qGZfgECI3w"
      },
      "outputs": [],
      "source": [
        "df['Closeness_6'] = (df.LIMIT_BAL - df.BILL_AMT6) / df.LIMIT_BAL\n",
        "df['Closeness_5'] = (df.LIMIT_BAL - df.BILL_AMT5) / df.LIMIT_BAL\n",
        "df['Closeness_4'] = (df.LIMIT_BAL - df.BILL_AMT4) / df.LIMIT_BAL\n",
        "df['Closeness_3'] = (df.LIMIT_BAL - df.BILL_AMT3) / df.LIMIT_BAL\n",
        "df['Closeness_2'] = (df.LIMIT_BAL - df.BILL_AMT2) / df.LIMIT_BAL\n",
        "df['Closeness_1'] = (df.LIMIT_BAL - df.BILL_AMT1) / df.LIMIT_BAL"
      ]
    },
    {
      "cell_type": "code",
      "execution_count": null,
      "metadata": {
        "id": "4BA89KTGqncg"
      },
      "outputs": [],
      "source": [
        "X = df.drop(\"default payment next month\",axis=1)\n",
        "Y = df[\"default payment next month\"]"
      ]
    },
    {
      "cell_type": "code",
      "execution_count": null,
      "metadata": {
        "id": "kHYQjqBJtpdh"
      },
      "outputs": [],
      "source": [
        "from sklearn.model_selection import train_test_split\n",
        "X_train, X_test, Y_train, Y_test = train_test_split(X,Y,test_size=0.02,random_state=44)"
      ]
    },
    {
      "cell_type": "code",
      "execution_count": null,
      "metadata": {
        "id": "RS58MQ7Btqav"
      },
      "outputs": [],
      "source": [
        "# from sklearn.preprocessing import StandardScaler\n",
        "# scaler = StandardScaler()\n",
        "# X_train = scaler.fit_transform(X_train)\n",
        "# X_test = scaler.transform(X_test)"
      ]
    },
    {
      "cell_type": "code",
      "execution_count": null,
      "metadata": {
        "id": "-uFVcioAttSO"
      },
      "outputs": [],
      "source": [
        "from sklearn.metrics import confusion_matrix,accuracy_score,classification_report,precision_score,f1_score,recall_score"
      ]
    },
    {
      "cell_type": "code",
      "execution_count": null,
      "metadata": {
        "colab": {
          "base_uri": "https://localhost:8080/"
        },
        "id": "SHUlwrL_twK5",
        "outputId": "517973cf-25cc-4500-f0fe-da6e44145482"
      },
      "outputs": [
        {
          "name": "stdout",
          "output_type": "stream",
          "text": [
            "test accuracy is: 0.8314814814814815\n",
            "train accuracy is: 1.0\n",
            "precision score is: 0.8154320987654322\n"
          ]
        }
      ],
      "source": [
        "from sklearn.ensemble import RandomForestClassifier\n",
        "from sklearn.datasets import make_classification\n",
        "\n",
        "clf=RandomForestClassifier(bootstrap=True, class_weight=None, criterion='gini',\n",
        "            max_depth=None, max_features='auto', max_leaf_nodes=None,\n",
        "            min_impurity_decrease=0.0, \n",
        "            min_samples_leaf=1, min_samples_split=2, random_state=None,\n",
        "            min_weight_fraction_leaf=0.0, n_estimators=600, n_jobs=-1,\n",
        "            oob_score=False, verbose=0,\n",
        "            warm_start=False)\n",
        "clf.fit(X_train,Y_train)\n",
        "predictions = clf.predict(X_test)\n",
        "Accu = accuracy_score(Y_test,predictions)\n",
        "predictions2 = clf.predict(X_train)\n",
        "Accu2 = accuracy_score(Y_train,predictions2)\n",
        "print(\"test accuracy is:\",Accu)\n",
        "print(\"train accuracy is:\",Accu2)\n",
        "print(\"precision score is:\",precision_score(Y_test, predictions, average='weighted'))\n",
        "# print(recall_score(predictions,Y_test))\n",
        "# print(f1_score(predictions,Y_test))"
      ]
    },
    {
      "cell_type": "code",
      "execution_count": null,
      "metadata": {
        "id": "SCHPkeaFgrlC"
      },
      "outputs": [],
      "source": []
    }
  ],
  "metadata": {
    "colab": {
      "collapsed_sections": [],
      "provenance": []
    },
    "kernelspec": {
      "display_name": "Python 3.10.0 64-bit",
      "language": "python",
      "name": "python3"
    },
    "language_info": {
      "codemirror_mode": {
        "name": "ipython",
        "version": 3
      },
      "file_extension": ".py",
      "mimetype": "text/x-python",
      "name": "python",
      "nbconvert_exporter": "python",
      "pygments_lexer": "ipython3",
      "version": "3.10.0"
    },
    "vscode": {
      "interpreter": {
        "hash": "17a1a53311e7b79477d19c8f3e14834553198dc5b189e9408f95eaac2f2cbe44"
      }
    }
  },
  "nbformat": 4,
  "nbformat_minor": 0
}
